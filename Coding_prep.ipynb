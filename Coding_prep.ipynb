{
  "nbformat": 4,
  "nbformat_minor": 0,
  "metadata": {
    "colab": {
      "name": "Coding_prep.ipynb",
      "provenance": [],
      "collapsed_sections": [],
      "include_colab_link": true
    },
    "kernelspec": {
      "name": "python3",
      "display_name": "Python 3"
    },
    "language_info": {
      "name": "python"
    }
  },
  "cells": [
    {
      "cell_type": "markdown",
      "metadata": {
        "id": "view-in-github",
        "colab_type": "text"
      },
      "source": [
        "<a href=\"https://colab.research.google.com/github/shravan2650/LeetCode-Preparation/blob/main/Coding_prep.ipynb\" target=\"_parent\"><img src=\"https://colab.research.google.com/assets/colab-badge.svg\" alt=\"Open In Colab\"/></a>"
      ]
    },
    {
      "cell_type": "markdown",
      "source": [
        "**1. Two sum**\n",
        "\n",
        "Given an array of integers nums and an integer target, return indices of the two numbers such that they add up to target."
      ],
      "metadata": {
        "id": "M3lQZnVV8ii0"
      }
    },
    {
      "cell_type": "code",
      "source": [
        "class Solution:\n",
        "    def twoSum(self, nums: List[int], target: int) -> List[int]:\n",
        "        \n",
        "        for count,val in enumerate(nums):\n",
        "            x = target-val\n",
        "            if x in nums[count+1:]:\n",
        "                return [count,nums[count+1:].index(x)+count+1]"
      ],
      "metadata": {
        "id": "xLQJ7py68h62"
      },
      "execution_count": null,
      "outputs": []
    },
    {
      "cell_type": "markdown",
      "source": [
        "**2. Add Two Numbers**\n",
        "\n",
        "You are given two non-empty linked lists representing two non-negative integers. The digits are stored in reverse order, and each of their nodes contains a single digit. Add the two numbers and return the sum as a linked list\n",
        "\n",
        "Input: l1 = [2,4,3], l2 = [5,6,4]\n",
        "Output: [7,0,8]\n",
        "Explanation: 342 + 465 = 807."
      ],
      "metadata": {
        "id": "_-19T55K8_w9"
      }
    },
    {
      "cell_type": "code",
      "execution_count": null,
      "metadata": {
        "id": "28F-fyZCdHEh"
      },
      "outputs": [],
      "source": [
        "class Solution:\n",
        "    def addTwoNumbers(self, l1, l2):\n",
        "        def toint(node):\n",
        "            return node.val + 10 * toint(node.next) if node else 0\n",
        "        def tolist(n):\n",
        "            node = ListNode(n % 10)\n",
        "            if n > 9:\n",
        "                node.next = tolist(n / 10)\n",
        "            return node\n",
        "        return tolist(toint(l1) + toint(l2))"
      ]
    },
    {
      "cell_type": "code",
      "source": [
        "# Better\n",
        "\n",
        "def addTwoNumbers(self, l1, l2):\n",
        "    dummy = cur = ListNode(0)\n",
        "    carry = 0\n",
        "    while l1 or l2 or carry:\n",
        "        if l1:\n",
        "            carry += l1.val\n",
        "            l1 = l1.next\n",
        "        if l2:\n",
        "            carry += l2.val\n",
        "            l2 = l2.next\n",
        "        cur.next = ListNode(carry%10)\n",
        "        cur = cur.next\n",
        "        carry //= 10\n",
        "    return dummy.next"
      ],
      "metadata": {
        "id": "8tAOL2UdSHcO"
      },
      "execution_count": null,
      "outputs": []
    },
    {
      "cell_type": "markdown",
      "source": [
        "**3. Longest Substring Without Repeating Characters**\n",
        "\n",
        "Given a string s, find the length of the longest substring without repeating characters.\n",
        "\n",
        " "
      ],
      "metadata": {
        "id": "P-rY5PqacwNd"
      }
    },
    {
      "cell_type": "code",
      "source": [
        "class Solution:\n",
        "    def lengthOfLongestSubstring(self, s: str) -> int:\n",
        "        d = {}\n",
        "        l = 0\n",
        "        start = 0\n",
        "        for i,w in enumerate(s):\n",
        "            if w in d and start<=d[w]:\n",
        "                l = max(l,i-start)\n",
        "                start = d[w]+1\n",
        "            d[w]=i\n",
        "        return max(l,len(s)-start)"
      ],
      "metadata": {
        "id": "DALo_cUZcvst"
      },
      "execution_count": null,
      "outputs": []
    },
    {
      "cell_type": "markdown",
      "source": [
        "**4. Median of Two Sorted Arrays**\n",
        "\n",
        "Given two sorted arrays nums1 and nums2 of size m and n respectively, return the median of the two sorted arrays."
      ],
      "metadata": {
        "id": "26GbLzJnf9n0"
      }
    },
    {
      "cell_type": "code",
      "source": [
        "class Solution:\n",
        "    def findMedianSortedArrays(self, nums1: List[int], nums2: List[int]) -> float:\n",
        "        \n",
        "        i=0\n",
        "        j=0\n",
        "        k=0\n",
        "        out = []\n",
        "        while (i<len(nums1) & j<len(nums2)):\n",
        "            if nums1[i]<nums2[j]:\n",
        "                out.append(nums1[i])\n",
        "                i+=1\n",
        "            if nums1[i]>nums2[j]:\n",
        "                out.append(nums2[j])\n",
        "                j+=1\n",
        "            k+=1\n",
        "        while i<len(nums1):\n",
        "            out.append(nums1[i])\n",
        "            i+=1\n",
        "        while j<len(nums2):\n",
        "            out.append(nums2[j])\n",
        "            j+=1\n",
        "        \n",
        "        return median(out)"
      ],
      "metadata": {
        "id": "1XWkfRKWf83i"
      },
      "execution_count": null,
      "outputs": []
    },
    {
      "cell_type": "markdown",
      "source": [
        "**6. Zigzag Conversion**\n",
        "\n",
        "The string \"PAYPALISHIRING\" is written in a zigzag pattern on a given number of rows like this: (you may want to display this pattern in a fixed font for better legibility)\n",
        "\n",
        "P   A   H   N\n",
        "A P L S I I G\n",
        "Y   I   R\n",
        "\n",
        "And then read line by line: \"PAHNAPLSIIGYIR\""
      ],
      "metadata": {
        "id": "Ez3C8Cikjjf-"
      }
    },
    {
      "cell_type": "code",
      "source": [
        "class Solution:\n",
        "    def convert(self, s: str, numRows: int) -> str:\n",
        "        if numRows <=1: return s\n",
        "        rows=['']*numRows\n",
        "        pos, step = 0,1\n",
        "        \n",
        "        for ch in s:\n",
        "            rows[pos]+=ch\n",
        "            if pos==numRows-1:\n",
        "                step = -1\n",
        "            if pos==0:\n",
        "                step = 1\n",
        "            pos +=step\n",
        "        \n",
        "        return ''.join(rows)"
      ],
      "metadata": {
        "id": "rEHh6N8FjuLp"
      },
      "execution_count": null,
      "outputs": []
    },
    {
      "cell_type": "markdown",
      "source": [
        "**7. Reverse Integer**\n",
        "\n",
        "Given a signed 32-bit integer x, return x with its digits reversed. If reversing x causes the value to go outside the signed 32-bit integer range [-2^31, 2^31 - 1], then return 0."
      ],
      "metadata": {
        "id": "Z16dOvSaRatP"
      }
    },
    {
      "cell_type": "code",
      "source": [
        "class Solution:\n",
        "    def reverse(self, x: int) -> int:\n",
        "        if x==0:\n",
        "            return x\n",
        "\n",
        "        \n",
        "        sign = int(x/abs(x))\n",
        "        x = abs(x)\n",
        "        \n",
        "        reverse = 0\n",
        "        pop = 0 \n",
        "        \n",
        "        while x>0:\n",
        "            pop = x%10\n",
        "            x = x//10\n",
        "            reverse = reverse*10+pop\n",
        "        \n",
        "        reverse *=sign\n",
        "        if reverse<-2**31 or reverse>2**31-1:\n",
        "            return 0\n",
        "        else:\n",
        "            return reverse"
      ],
      "metadata": {
        "id": "ImfLvKVMRg2i"
      },
      "execution_count": null,
      "outputs": []
    },
    {
      "cell_type": "markdown",
      "source": [
        "**9. Palindrome Number**\n",
        "\n"
      ],
      "metadata": {
        "id": "3RyvA4mEOla9"
      }
    },
    {
      "cell_type": "code",
      "source": [
        "class Solution:\n",
        "    def isPalindrome(self, x: int) -> bool:\n",
        "        # 0 is pal\n",
        "        if x==0:\n",
        "            return True\n",
        "        \n",
        "        # Should not end with zero or negative\n",
        "        if x<0 or x%10 ==0:\n",
        "            return False\n",
        "        \n",
        "        reverse = 0\n",
        "        pop = 0\n",
        "        \n",
        "        # check till half\n",
        "        while x>reverse:\n",
        "            pop = x%10\n",
        "            x = x//10\n",
        "            \n",
        "            reverse = reverse*10+pop\n",
        "\n",
        "        # check for even and odd number of digits   \n",
        "        if x==reverse or x==reverse//10:\n",
        "            return True\n",
        "        else:\n",
        "            return False\n",
        "            "
      ],
      "metadata": {
        "id": "bu0yyjc6g0CX"
      },
      "execution_count": null,
      "outputs": []
    },
    {
      "cell_type": "markdown",
      "source": [
        "**11. Container With Most Water**\n",
        "\n",
        "You are given an integer array height of length n. There are n vertical lines drawn such that the two endpoints of the ith line are (i, 0) and (i, height[i]).\n",
        "\n",
        "Find two lines that together with the x-axis form a container, such that the container contains the most water.\n",
        "\n",
        "![question_11.jpeg](data:image/jpeg;base64,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)"
      ],
      "metadata": {
        "id": "im_Te8o4Op4o"
      }
    },
    {
      "cell_type": "code",
      "source": [
        "class Solution:\n",
        "    def maxArea(self, height: List[int]) -> int:\n",
        "        maxA = 0\n",
        "        n = len(height)\n",
        "        l = 0\n",
        "        r = n-1\n",
        "        \n",
        "        while l<r:\n",
        "            maxA = max(maxA,(r-l)*min(height[l],height[r]))\n",
        "            if height[l]<height[r]:\n",
        "                l+=1\n",
        "            else:\n",
        "                r-=1 \n",
        "        return maxA"
      ],
      "metadata": {
        "id": "W7Ay3ei1eqs1"
      },
      "execution_count": null,
      "outputs": []
    },
    {
      "cell_type": "markdown",
      "source": [
        "**13. Roman to Integer**\n",
        "\n",
        "Roman numerals are usually written largest to smallest from left to right. However, the numeral for four is not IIII. Instead, the number four is written as IV. Because the one is before the five we subtract it making four. The same principle applies to the number nine, which is written as IX. There are six instances where subtraction is used:"
      ],
      "metadata": {
        "id": "yhOXqzutvHss"
      }
    },
    {
      "cell_type": "code",
      "source": [
        "class Solution:\n",
        "    def romanToInt(self, s: str) -> int:\n",
        "        d_n = {\"I\":1,\"V\":5,\"X\":10,\"L\":50,\"C\":100,\"D\":500,\"M\":1000}\n",
        "        d = {}\n",
        "        num = 0\n",
        "        \n",
        "        for i in range(len(s)-1):\n",
        "            if  d_n[s[i+1]]<=d_n[s[i]]:\n",
        "                num+=d_n[s[i]]\n",
        "            else:\n",
        "                num-=d_n[s[i]]\n",
        "        return num + d_n[s[-1]]"
      ],
      "metadata": {
        "id": "FHPK22jdvHNF"
      },
      "execution_count": null,
      "outputs": []
    },
    {
      "cell_type": "markdown",
      "source": [
        "**15. 3Sum**\n",
        "\n",
        "Given an integer array nums, return all the triplets [nums[i], nums[j], nums[k]] such that i != j, i != k, and j != k, and nums[i] + nums[j] + nums[k] == 0.\n",
        "\n",
        "Notice that the solution set must not contain duplicate triplets.\n",
        "\n",
        "Notes:\n",
        "\n",
        "The way to think about it is since it's 3 sum, there's only going to be 3 numbers. So to find the combinations of 3 numbers, he is iterating through the list with the first pointer, and then trying to find two extra numbers to sum to 0. Since the list is ordered, the right pointer will always be higher than the middle pointer. So if the sum is too large, you can move the right pointer back one. On the other hand, if the sum is too small (below 0), then move the middle pointer up one.\n",
        "\n",
        "1. len(nums)-2 is because we need at least 3 numbers to continue.\n",
        "\n",
        "2. if i > 0 and nums[i] == nums[i-1] is because when i = 0, it doesn't need to check if it's a duplicate element since it doesn't even have a previous element to compare with. And nums[i] == nums[i-1] is to prevent checking duplicate again. (This seems to be a good pattern which has been seen in other questions as well)."
      ],
      "metadata": {
        "id": "7phEgouaG49Y"
      }
    },
    {
      "cell_type": "code",
      "source": [
        "class Solution:\n",
        "    def threeSum(self, nums: List[int]) -> List[List[int]]:\n",
        "        res = []\n",
        "        nums.sort()\n",
        "        for i in range(len(nums)-2):\n",
        "            if i>0 and nums[i]==nums[i-1]:\n",
        "                continue\n",
        "            l,r = i+1,len(nums)-1\n",
        "            while l<r:\n",
        "                s = nums[i]+nums[l]+nums[r]\n",
        "                if s>0:\n",
        "                    r-=1\n",
        "                elif s<0:\n",
        "                    l+=1\n",
        "                else:\n",
        "                    res.append([nums[i],nums[l],nums[r]])\n",
        "                    while l<r and nums[l]==nums[l+1]:\n",
        "                        l+=1\n",
        "                    while l<r and nums[r]==nums[r-1]:\n",
        "                        r-=1  \n",
        "                    l+=1\n",
        "                    r-=1\n",
        "        return res"
      ],
      "metadata": {
        "id": "s_68lQv3G4Yv"
      },
      "execution_count": null,
      "outputs": []
    },
    {
      "cell_type": "markdown",
      "source": [
        "**20. Valid Parentheses**\n",
        "\n",
        "Given a string s containing just the characters '(', ')', '{', '}', '[' and ']', determine if the input string is valid.\n",
        "\n",
        "An input string is valid if:\n",
        "\n",
        "Open brackets must be closed by the same type of brackets.\n",
        "\n",
        "Open brackets must be closed in the correct order."
      ],
      "metadata": {
        "id": "i6blt4IzXx37"
      }
    },
    {
      "cell_type": "code",
      "source": [
        "class Solution:\n",
        "    def isValid(self, s):\n",
        "        stack = [0]\n",
        "        mapping = {0:None,'(':')', '[':']', '{':'}'}\n",
        "        for c in s:\n",
        "            if c in mapping: \n",
        "                stack.append(c)\n",
        "            else:\n",
        "                if mapping[stack.pop()] != c: return False\n",
        "        return stack == [0]"
      ],
      "metadata": {
        "id": "Qu3EqG8BXxVm"
      },
      "execution_count": null,
      "outputs": []
    },
    {
      "cell_type": "markdown",
      "source": [
        "**26. Remove Duplicates from Sorted Array**\n",
        "\n",
        "Given an integer array nums sorted in non-decreasing order, remove the duplicates in-place such that each unique element appears only once. The relative order of the elements should be kept the same.\n",
        "\n",
        "Since it is impossible to change the length of the array in some languages, you must instead have the result be placed in the first part of the array nums. More formally, if there are k elements after removing the duplicates, then the first k elements of nums should hold the final result. It does not matter what you leave beyond the first k elements.\n",
        "\n",
        "Return k after placing the final result in the first k slots of nums."
      ],
      "metadata": {
        "id": "qwTuyW0uFThd"
      }
    },
    {
      "cell_type": "code",
      "source": [
        "class Solution:\n",
        "    def removeDuplicates(self, nums: List[int]) -> int:\n",
        "        d = {}\n",
        "        k = 0\n",
        "        for n in nums:\n",
        "            if n not in d:\n",
        "                d[n]=1\n",
        "                nums[k]=n\n",
        "                k+=1\n",
        "        return k"
      ],
      "metadata": {
        "id": "oKeqHzPJFS2V"
      },
      "execution_count": null,
      "outputs": []
    },
    {
      "cell_type": "markdown",
      "source": [
        "**27. Remove Element**\n",
        "\n",
        "Given an integer array nums and an integer val, remove all occurrences of val in nums in-place. The relative order of the elements may be changed.\n",
        "\n",
        "Since it is impossible to change the length of the array in some languages, you must instead have the result be placed in the first part of the array nums. More formally, if there are k elements after removing the duplicates, then the first k elements of nums should hold the final result. It does not matter what you leave beyond the first k elements.\n",
        "\n",
        "Return k after placing the final result in the first k slots of nums."
      ],
      "metadata": {
        "id": "czj5TlXAyays"
      }
    },
    {
      "cell_type": "code",
      "source": [
        "class Solution:\n",
        "    def removeElement(self, nums: List[int], val: int) -> int:\n",
        "        k=0\n",
        "        for n in nums:\n",
        "            if n!=val:\n",
        "                nums[k] = n\n",
        "                k+=1\n",
        "        return k"
      ],
      "metadata": {
        "id": "SjRwolbsyaaw"
      },
      "execution_count": null,
      "outputs": []
    },
    {
      "cell_type": "markdown",
      "source": [
        "**35. Search Insert Position**\n",
        "\n",
        "Given a sorted array of distinct integers and a target value, return the index if the target is found. If not, return the index where it would be if it were inserted in order."
      ],
      "metadata": {
        "id": "38cvk9JeKPv_"
      }
    },
    {
      "cell_type": "code",
      "source": [
        "class Solution:\n",
        "    def searchInsert(self, nums: List[int], target: int) -> int:\n",
        "        l,r = 0, len(nums)-1\n",
        "        while l<=r:\n",
        "            m = (l+r)//2\n",
        "            if nums[m] ==target:\n",
        "                return m\n",
        "            m = (l+r)//2\n",
        "            if nums[m]<target:\n",
        "                l = m+1\n",
        "            else:\n",
        "                r = m-1                        \n",
        "        return l"
      ],
      "metadata": {
        "id": "aQLgrQQAKPSW"
      },
      "execution_count": null,
      "outputs": []
    },
    {
      "cell_type": "markdown",
      "source": [
        "**45. Jump Game II**\n",
        "\n",
        "Given an array of non-negative integers nums, you are initially positioned at the first index of the array.\n",
        "\n",
        "Each element in the array represents your maximum jump length at that position.\n",
        "\n",
        "Your goal is to reach the last index in the minimum number of jumps.\n",
        "\n",
        "You can assume that you can always reach the last index.\n",
        "\n",
        "https://www.youtube.com/watch?v=dJ7sWiOoK7g&t=10s&ab_channel=NeetCode\n",
        "\n"
      ],
      "metadata": {
        "id": "NnnjQIzM3XcB"
      }
    },
    {
      "cell_type": "code",
      "source": [
        "class Solution:\n",
        "    def jump(self, nums: List[int]) -> int:\n",
        "        l=r=0\n",
        "        res = 0\n",
        "        \n",
        "        while r<len(nums)-1:\n",
        "            farthest = 0\n",
        "            for i in range(l,r+1):\n",
        "                farthest = max(farthest,i+nums[i])\n",
        "            l=r+1\n",
        "            r=farthest\n",
        "            res+=1\n",
        "        return res"
      ],
      "metadata": {
        "id": "tuH6_sHj3W_g"
      },
      "execution_count": null,
      "outputs": []
    },
    {
      "cell_type": "markdown",
      "source": [
        "**49. Group Anagrams**\n",
        "\n",
        "Given an array of strings strs, group the anagrams together. You can return the answer in any order.\n",
        "\n",
        "An Anagram is a word or phrase formed by rearranging the letters of a different word or phrase, typically using all the original letters exactly once."
      ],
      "metadata": {
        "id": "xBfAZ4bCSwpk"
      }
    },
    {
      "cell_type": "code",
      "source": [
        "class Solution:\n",
        "    def groupAnagrams(self, strs: List[str]) -> List[List[str]]:\n",
        "        d = {}\n",
        "        for w in strs:\n",
        "            key = tuple(sorted(w))\n",
        "            d[key]=d.get(key,[])+[w]\n",
        "        return d.values()"
      ],
      "metadata": {
        "id": "uwFy1rhXSwJX"
      },
      "execution_count": null,
      "outputs": []
    },
    {
      "cell_type": "markdown",
      "source": [
        "**55. Jump Game**\n",
        "\n",
        "You are given an integer array nums. You are initially positioned at the array's first index, and each element in the array represents your maximum jump length at that position.\n",
        "\n",
        "Return true if you can reach the last index, or false otherwise."
      ],
      "metadata": {
        "id": "txh3vgSeRjVJ"
      }
    },
    {
      "cell_type": "code",
      "source": [
        "class Solution:\n",
        "    def canJump(self, nums: List[int]) -> bool:\n",
        "        goal = len(nums)-1\n",
        "        \n",
        "        for i in range(len(nums)-1,-1,-1):\n",
        "            if i+nums[i]>=goal:\n",
        "                goal = i\n",
        "        \n",
        "        return True if goal==0 else False"
      ],
      "metadata": {
        "id": "d78rXtncRi46"
      },
      "execution_count": null,
      "outputs": []
    },
    {
      "cell_type": "markdown",
      "source": [
        "**56. Merge Intervals**\n",
        "\n",
        "Given an array of intervals where intervals[i] = [starti, endi], merge all overlapping intervals, and return an array of the non-overlapping intervals that cover all the intervals in the input."
      ],
      "metadata": {
        "id": "-N2R2quROuZL"
      }
    },
    {
      "cell_type": "code",
      "source": [
        "class Solution:\n",
        "    def merge(self, intervals: List[List[int]]) -> List[List[int]]:\n",
        "        intervals=sorted(intervals, key = lambda x:x[0])\n",
        "        res =[intervals[0]]\n",
        "        for n in intervals[1:]:\n",
        "            if n[0]<=res[-1][1]:\n",
        "                res[-1][1] = max(res[-1][1], n[1])\n",
        "            else:\n",
        "                res.append(n)\n",
        "        return res"
      ],
      "metadata": {
        "id": "NZjTGzqGOtrZ"
      },
      "execution_count": null,
      "outputs": []
    },
    {
      "cell_type": "markdown",
      "source": [
        "**98. Validate Binary Search Tree**\n",
        "\n",
        "Given the root of a binary tree, determine if it is a valid binary search tree (BST).\n",
        "\n",
        "A valid BST is defined as follows:\n",
        "\n",
        "The left subtree of a node contains only nodes with keys less than the node's key.\n",
        "The right subtree of a node contains only nodes with keys greater than the node's key.\n",
        "Both the left and right subtrees must also be binary search trees."
      ],
      "metadata": {
        "id": "w_GBl6Z2Mmib"
      }
    },
    {
      "cell_type": "code",
      "source": [
        "# Definition for a binary tree node.\n",
        "# class TreeNode:\n",
        "#     def __init__(self, val=0, left=None, right=None):\n",
        "#         self.val = val\n",
        "#         self.left = left\n",
        "#         self.right = right\n",
        "class Solution:\n",
        "    def isValidBST(self, root: Optional[TreeNode]) -> bool:\n",
        "        \n",
        "        def valid(node, l,r):\n",
        "            if not node:\n",
        "                return True\n",
        "            if not(node.val>l and node.val<r):\n",
        "                return False\n",
        "            return valid(node.left,l,node.val) and valid(node.right,node.val,r)\n",
        "        \n",
        "        return valid(root,float(\"-inf\"),float(\"inf\"))"
      ],
      "metadata": {
        "id": "Nf5YIGBmMl9m"
      },
      "execution_count": null,
      "outputs": []
    },
    {
      "cell_type": "markdown",
      "source": [
        "**121. Best Time to Buy and Sell Stock**\n",
        "\n",
        "You are given an array prices where prices[i] is the price of a given stock on the ith day.\n",
        "\n",
        "You want to maximize your profit by choosing a single day to buy one stock and choosing a different day in the future to sell that stock.\n",
        "\n",
        "Return the maximum profit you can achieve from this transaction. If you cannot achieve any profit, return 0."
      ],
      "metadata": {
        "id": "uU57Rt2UrGwE"
      }
    },
    {
      "cell_type": "code",
      "source": [
        "class Solution:\n",
        "    def maxProfit(self, prices: List[int]) -> int:\n",
        "        maxp = 0\n",
        "        m = float('inf')\n",
        "        \n",
        "        for p in prices:\n",
        "            if p<m: m = p\n",
        "            if p-m>maxp: maxp = p-m\n",
        "        return maxp"
      ],
      "metadata": {
        "id": "-mfEvEfprGJi"
      },
      "execution_count": null,
      "outputs": []
    },
    {
      "cell_type": "markdown",
      "source": [
        "**153. Find Minimum in Rotated Sorted Array**\n",
        "\n",
        "Suppose an array of length n sorted in ascending order is rotated between 1 and n times. For example, the array nums = [0,1,2,4,5,6,7] might become:\n",
        "\n",
        "[4,5,6,7,0,1,2] if it was rotated 4 times.\n",
        "[0,1,2,4,5,6,7] if it was rotated 7 times.\n",
        "Notice that rotating an array [a[0], a[1], a[2], ..., a[n-1]] 1 time results in the array [a[n-1], a[0], a[1], a[2], ..., a[n-2]].\n",
        "\n",
        "Given the sorted rotated array nums of unique elements, return the minimum element of this array.\n",
        "\n",
        "You must write an algorithm that runs in O(log n) time."
      ],
      "metadata": {
        "id": "P3gZOQmO05YT"
      }
    },
    {
      "cell_type": "code",
      "source": [
        "class Solution:\n",
        "    def findMin(self, nums: List[int]) -> int:\n",
        "        l,r = 0, len(nums)-1\n",
        "        while l<r:\n",
        "            mid = (l+r)//2\n",
        "            if nums[mid]>nums[r]:\n",
        "                l = mid+1\n",
        "            else:\n",
        "                r = mid\n",
        "                \n",
        "        return nums[l]"
      ],
      "metadata": {
        "id": "iMkG78Yz048l"
      },
      "execution_count": null,
      "outputs": []
    },
    {
      "cell_type": "markdown",
      "source": [
        "**178 · Graph Valid Tree**\n",
        "\n",
        "Given n nodes labeled from 0 to n - 1 and a list of undirected edges (each edge is a pair of nodes), write a function to check whether these edges make up a valid tree."
      ],
      "metadata": {
        "id": "N8anyOw786Gg"
      }
    },
    {
      "cell_type": "code",
      "source": [
        "class Solution:\n",
        "    \"\"\"\n",
        "    @param n: An integer\n",
        "    @param edges: a list of undirected edges\n",
        "    @return: true if it's a valid tree, or false\n",
        "    \"\"\"\n",
        "    def validTree(self, n, edges):\n",
        "        # write your code here\n",
        "        adj = {i:[] for i in range(n)}\n",
        "\n",
        "        for n1,n2 in edges:\n",
        "            adj[n1].append(n2)\n",
        "            adj[n2].append(n1)\n",
        "        \n",
        "        visited = set()\n",
        "\n",
        "        def dfs(i, prev):\n",
        "            if i in visited:\n",
        "                return False\n",
        "            visited.add(i)\n",
        "            for j in adj[i]:\n",
        "                if j==prev:\n",
        "                    continue\n",
        "                if not dfs(j,i):\n",
        "                    return False\n",
        "            return True\n",
        "\n",
        "        return dfs(0,-1) and len(visited)==n\n"
      ],
      "metadata": {
        "id": "m3803P1g85n6"
      },
      "execution_count": null,
      "outputs": []
    },
    {
      "cell_type": "markdown",
      "source": [
        "**200. Number of Islands**\n",
        "\n",
        "Given an m x n 2D binary grid grid which represents a map of '1's (land) and '0's (water), return the number of islands.\n",
        "\n",
        "An island is surrounded by water and is formed by connecting adjacent lands horizontally or vertically. You may assume all four edges of the grid are all surrounded by water.\n",
        "\n"
      ],
      "metadata": {
        "id": "ZeSp-wtCgfT8"
      }
    },
    {
      "cell_type": "code",
      "source": [
        "class Solution:\n",
        "    def numIslands(self, grid: List[List[str]]) -> int:\n",
        "        count = 0\n",
        "        for i in range(len(grid)):\n",
        "            for j in range(len(grid[0])):\n",
        "                if grid[i][j]==\"1\":\n",
        "                    self.search(i,j,grid)\n",
        "                    count+=1\n",
        "        \n",
        "        return count\n",
        "    \n",
        "    def search(self, i,j, grid: List[List[str]]):\n",
        "        if(i<0 or j<0 or i>len(grid)-1 or j>len(grid[0])-1 or grid[i][j]!=\"1\"):\n",
        "            return\n",
        "        grid[i][j]=\"2\"\n",
        "        self.search(i+1,j,grid)\n",
        "        self.search(i-1,j,grid)\n",
        "        self.search(i,j+1,grid)\n",
        "        self.search(i,j-1,grid)"
      ],
      "metadata": {
        "id": "CgsfZ60ggep6"
      },
      "execution_count": null,
      "outputs": []
    },
    {
      "cell_type": "markdown",
      "source": [
        "**206. Reverse Linked List**\n",
        "\n",
        "Given the head of a singly linked list, reverse the list, and return the reversed list."
      ],
      "metadata": {
        "id": "i-9JBsYbWYrT"
      }
    },
    {
      "cell_type": "code",
      "source": [
        "# Definition for singly-linked list.\n",
        "# class ListNode:\n",
        "#     def __init__(self, val=0, next=None):\n",
        "#         self.val = val\n",
        "#         self.next = next\n",
        "class Solution:\n",
        "    def reverseList(self, head: Optional[ListNode]) -> Optional[ListNode]:\n",
        "        cur, prev = head, None\n",
        "        while cur:\n",
        "            cur.next, prev, cur = prev, cur, cur.next\n",
        "        return prev"
      ],
      "metadata": {
        "id": "Ppr1z852WYEw"
      },
      "execution_count": null,
      "outputs": []
    },
    {
      "cell_type": "markdown",
      "source": [
        "**217. Contains Duplicate**\n",
        "\n",
        "Given an integer array nums, return true if any value appears at least twice in the array, and return false if every element is distinct."
      ],
      "metadata": {
        "id": "VG1hQ8ZDmx4h"
      }
    },
    {
      "cell_type": "code",
      "source": [
        "class Solution:\n",
        "    def containsDuplicate(self, nums: List[int]) -> bool:\n",
        "        d = {}\n",
        "        for n in nums:\n",
        "            if n in d:\n",
        "                return True\n",
        "            else:\n",
        "                d[n]=1\n",
        "        return False"
      ],
      "metadata": {
        "id": "cC4kgJ8rmxbM"
      },
      "execution_count": null,
      "outputs": []
    },
    {
      "cell_type": "markdown",
      "source": [
        "**221. Maximal Square**\n",
        "\n",
        "Given an m x n binary matrix filled with 0's and 1's, find the largest square containing only 1's and return its area.\n",
        "\n",
        "https://www.youtube.com/watch?v=6X7Ha2PrDmM&ab_channel=NeetCode"
      ],
      "metadata": {
        "id": "G4K1qYg2C-tr"
      }
    },
    {
      "cell_type": "code",
      "source": [
        "class Solution:\n",
        "    def maximalSquare(self, matrix: List[List[str]]) -> int:\n",
        "        m = len(matrix)\n",
        "        n = len(matrix[0])\n",
        "        sides = {}\n",
        "        \n",
        "        def findsides(i,j):\n",
        "            if i>=m or j>=n:\n",
        "                return 0\n",
        "            \n",
        "            if (i,j) not in sides:\n",
        "                down = findsides(i+1,j)\n",
        "                diag = findsides(i+1,j+1)\n",
        "                right = findsides(i,j+1)\n",
        "                \n",
        "                sides[(i,j)]=0\n",
        "                if matrix[i][j]==\"1\":\n",
        "                    sides[(i,j)] = 1 + min(down,diag,right)\n",
        "            return sides[(i,j)]\n",
        "        \n",
        "        findsides(0,0)\n",
        "        return max(sides.values())**2"
      ],
      "metadata": {
        "id": "YMA-aK-7C92I"
      },
      "execution_count": null,
      "outputs": []
    },
    {
      "cell_type": "markdown",
      "source": [
        "**226. Invert Binary Tree**\n",
        "\n",
        "Given the root of a binary tree, invert the tree, and return its root."
      ],
      "metadata": {
        "id": "oeCX6Puy2rNU"
      }
    },
    {
      "cell_type": "code",
      "source": [
        "# Definition for a binary tree node.\n",
        "# class TreeNode:\n",
        "#     def __init__(self, val=0, left=None, right=None):\n",
        "#         self.val = val\n",
        "#         self.left = left\n",
        "#         self.right = right\n",
        "class Solution:\n",
        "    def invertTree(self, root: Optional[TreeNode]) -> Optional[TreeNode]:\n",
        "        if not root:\n",
        "            return\n",
        "        root.left,root.right = self.invertTree(root.right), self.invertTree(root.left)\n",
        "        \n",
        "        return root"
      ],
      "metadata": {
        "id": "HQwjaIrW2p9R"
      },
      "execution_count": null,
      "outputs": []
    },
    {
      "cell_type": "markdown",
      "source": [
        "**238. Product of Array Except Self**\n",
        "\n",
        "Given an integer array nums, return an array answer such that answer[i] is equal to the product of all the elements of nums except nums[i].\n",
        "\n",
        "The product of any prefix or suffix of nums is guaranteed to fit in a 32-bit integer.\n",
        "\n",
        "You must write an algorithm that runs in O(n) time and without using the division operation."
      ],
      "metadata": {
        "id": "eaC12VSXpQSE"
      }
    },
    {
      "cell_type": "code",
      "source": [
        "class Solution:\n",
        "    def productExceptSelf(self, nums: List[int]) -> List[int]:\n",
        "        p=1\n",
        "        out = []\n",
        "        \n",
        "        for n in nums:\n",
        "            out.append(p)\n",
        "            p*=n\n",
        "        p=1\n",
        "        for i in range(len(nums)-1,-1,-1):\n",
        "            out[i]*=p\n",
        "            p*=nums[i]\n",
        "        return out"
      ],
      "metadata": {
        "id": "b1n3WCf6pP4V"
      },
      "execution_count": null,
      "outputs": []
    },
    {
      "cell_type": "markdown",
      "source": [
        "**242. Valid Anagram**\n",
        "\n",
        "Given two strings s and t, return true if t is an anagram of s, and false otherwise.\n",
        "\n",
        "An Anagram is a word or phrase formed by rearranging the letters of a different word or phrase, typically using all the original letters exactly once."
      ],
      "metadata": {
        "id": "pu5RQonttzr4"
      }
    },
    {
      "cell_type": "code",
      "source": [
        "class Solution:\n",
        "    def isAnagram(self, s: str, t: str) -> bool:\n",
        "        return sorted(s)==sorted(t)"
      ],
      "metadata": {
        "id": "T5YBQlektzUA"
      },
      "execution_count": null,
      "outputs": []
    }
  ]
}